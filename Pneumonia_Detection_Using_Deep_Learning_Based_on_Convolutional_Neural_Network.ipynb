{
  "nbformat": 4,
  "nbformat_minor": 0,
  "metadata": {
    "colab": {
      "name": "Pneumonia Detection Using Deep Learning Based on Convolutional Neural Network.ipynb",
      "provenance": []
    },
    "kernelspec": {
      "name": "python3",
      "display_name": "Python 3"
    },
    "language_info": {
      "name": "python"
    },
    "accelerator": "GPU"
  },
  "cells": [
    {
      "cell_type": "markdown",
      "source": [
        "# **Import Libraries**"
      ],
      "metadata": {
        "id": "TJ1A-YJW7Ka5"
      }
    },
    {
      "cell_type": "code",
      "execution_count": null,
      "metadata": {
        "id": "5HY2_moX4J0G"
      },
      "outputs": [],
      "source": [
        "import os\n",
        "import cv2\n",
        "import keras\n",
        "import tensorflow as tf \n",
        "from tensorflow import keras\n",
        "from google.colab import drive\n",
        "from keras.models import Sequential\n",
        "from sklearn.metrics import ConfusionMatrixDisplay\n",
        "from keras.preprocessing.image import ImageDataGenerator\n",
        "from keras.layers import Conv2D,MaxPooling2D,Flatten,Dropout,Dense,BatchNormalization,SpatialDropout2D"
      ]
    },
    {
      "cell_type": "markdown",
      "source": [
        "# **Load Data**"
      ],
      "metadata": {
        "id": "rX2TtvFx7MCq"
      }
    },
    {
      "cell_type": "code",
      "source": [
        "drive.mount('/content/drive')"
      ],
      "metadata": {
        "colab": {
          "base_uri": "https://localhost:8080/"
        },
        "id": "0Xn8FFDP67Dn",
        "outputId": "8ec337c1-83b9-461c-c670-5f41e8969e0c"
      },
      "execution_count": null,
      "outputs": [
        {
          "output_type": "stream",
          "name": "stdout",
          "text": [
            "Mounted at /content/drive\n"
          ]
        }
      ]
    },
    {
      "cell_type": "code",
      "source": [
        "os.chdir('/content/drive/Shareddrives/Jinishpati Pro Max/soft_com/input/chest_xray')\n",
        "!pwd"
      ],
      "metadata": {
        "colab": {
          "base_uri": "https://localhost:8080/"
        },
        "id": "QYrkfxri7ETd",
        "outputId": "34edc9e2-9885-4b71-8e68-ce2f53520efe"
      },
      "execution_count": null,
      "outputs": [
        {
          "output_type": "stream",
          "name": "stdout",
          "text": [
            "/content/drive/Shareddrives/Jinishpati Pro Max/soft_com/input/chest_xray\n"
          ]
        }
      ]
    },
    {
      "cell_type": "markdown",
      "source": [
        "# Preprocessing Data"
      ],
      "metadata": {
        "id": "01mMDcxd7U6k"
      }
    },
    {
      "cell_type": "code",
      "source": [
        "#Preprocessing the Training set\n",
        "train_datagen = ImageDataGenerator(\n",
        "        rescale=1./255,\n",
        "        shear_range=0.2,\n",
        "        zoom_range=0.2,\n",
        "        horizontal_flip=True)\n",
        "\n",
        "test_datagen = ImageDataGenerator(rescale=1./255)\n",
        "\n",
        "training_set = train_datagen.flow_from_directory(\n",
        "        '/content/drive/Shareddrives/Jinishpati Pro Max/soft_com/input/chest_xray/train',\n",
        "        target_size=(128,128),\n",
        "        batch_size=16 ,\n",
        "        class_mode='binary')\n",
        "\n",
        "\n",
        "#Preprocessing the Test set\n",
        "test_datagen = ImageDataGenerator(rescale = 1./255)\n",
        "\n",
        "test_set = test_datagen.flow_from_directory(\n",
        "        '/content/drive/Shareddrives/Jinishpati Pro Max/soft_com/input/chest_xray/test',\n",
        "        target_size=(128,128),\n",
        "        batch_size=16,\n",
        "        class_mode='binary')"
      ],
      "metadata": {
        "colab": {
          "base_uri": "https://localhost:8080/"
        },
        "id": "6MoSI-GQ7WYN",
        "outputId": "af9c68cf-bd5c-4c7a-a945-3bf689ad0d5d"
      },
      "execution_count": null,
      "outputs": [
        {
          "output_type": "stream",
          "name": "stdout",
          "text": [
            "Found 5216 images belonging to 2 classes.\n",
            "Found 624 images belonging to 2 classes.\n"
          ]
        }
      ]
    },
    {
      "cell_type": "markdown",
      "source": [
        "# **CNN**"
      ],
      "metadata": {
        "id": "O3F5Ym8s7p07"
      }
    },
    {
      "cell_type": "code",
      "source": [
        "#Initialising the CNN\n",
        "cnn = tf.keras.models.Sequential()\n",
        "\n",
        "#Layers\n",
        "\n",
        "cnn.add(tf.keras.layers.Conv2D(filters=32, kernel_size=3, padding='same', activation='relu', input_shape=[128,128, 3])) #Step 1 - Convolution\n",
        "cnn.add(tf.keras.layers.MaxPool2D(pool_size=2, strides=2)) #Step 2 - Pooling\n",
        "cnn.add(SpatialDropout2D(0.1))\n",
        "\n",
        "cnn.add(tf.keras.layers.Conv2D(filters=32, kernel_size=3, padding='same', activation='relu')) #Step 1 - Convolution\n",
        "cnn.add(tf.keras.layers.MaxPool2D(pool_size=2, strides=2)) #Step 2 - Pooling\n",
        "cnn.add(BatchNormalization())\n",
        "cnn.add(SpatialDropout2D(0.2))\n",
        "\n",
        "cnn.add(tf.keras.layers.Conv2D(filters=32, kernel_size=3, padding='same', activation='relu')) #Step 1 - Convolution\n",
        "cnn.add(tf.keras.layers.MaxPool2D(pool_size=2, strides=2)) #Step 2 - Pooling\n",
        "cnn.add(BatchNormalization())\n",
        "cnn.add(SpatialDropout2D(0.2))\n",
        "\n",
        "cnn.add(tf.keras.layers.Conv2D(filters=32, kernel_size=3, padding='same', activation='relu')) #Step 1 - Convolution\n",
        "cnn.add(tf.keras.layers.MaxPool2D(pool_size=2, strides=2)) #Step 2 - Pooling\n",
        "cnn.add(BatchNormalization())\n",
        "cnn.add(SpatialDropout2D(0.3))\n",
        "\n",
        "cnn.add(tf.keras.layers.Conv2D(filters=32, kernel_size=3, padding='same', activation='relu')) #Step 1 - Convolution\n",
        "cnn.add(tf.keras.layers.MaxPool2D(pool_size=2, strides=2)) #Step 2 - Pooling\n",
        "cnn.add(BatchNormalization())\n",
        "cnn.add(SpatialDropout2D(0.3))\n",
        "\n",
        "cnn.add(tf.keras.layers.Conv2D(filters=32, kernel_size=3, padding='same', activation='relu')) #Step 1 - Convolution\n",
        "cnn.add(tf.keras.layers.MaxPool2D(pool_size=2, strides=2)) #Step 2 - Pooling\n",
        "cnn.add(BatchNormalization())\n",
        "cnn.add(SpatialDropout2D(0.3))\n",
        "\n",
        "cnn.add(tf.keras.layers.Conv2D(filters=32, kernel_size=3, padding='same', activation='relu')) #Step 1 - Convolution\n",
        "cnn.add(tf.keras.layers.MaxPool2D(pool_size=2, strides=2)) #Step 2 - Pooling\n",
        "cnn.add(BatchNormalization())\n",
        "cnn.add(SpatialDropout2D(0.5))\n",
        "\n",
        "cnn.add(tf.keras.layers.Flatten()) #Step 3 - Flattening\n",
        "cnn.add(Dropout(0.5))\n",
        "cnn.add(tf.keras.layers.Dense(units=128, activation='relu')) #Step 4 - Full Connection\n",
        "cnn.add(Dropout(0.5))\n",
        "cnn.add(tf.keras.layers.Dense(units=128, activation='relu')) #Step 4 - Full Connection\n",
        "cnn.add(Dropout(0.5))\n",
        "cnn.add(tf.keras.layers.Dense(units=1, activation='sigmoid')) #Step 5 - Output Layer\n",
        "\n",
        "\n",
        "#Compiling the CNN\n",
        "adam=keras.optimizers.Adam(learning_rate=0.001)\n",
        "cnn.compile(optimizer = 'adam', loss = 'binary_crossentropy', metrics = ['accuracy'])\n",
        "\n",
        "#Summary\n",
        "cnn.summary()"
      ],
      "metadata": {
        "colab": {
          "base_uri": "https://localhost:8080/"
        },
        "id": "QMwY9Z0g8P_K",
        "outputId": "57392890-373d-494f-b9d1-015e7e23da48"
      },
      "execution_count": null,
      "outputs": [
        {
          "output_type": "stream",
          "name": "stdout",
          "text": [
            "Model: \"sequential_1\"\n",
            "_________________________________________________________________\n",
            " Layer (type)                Output Shape              Param #   \n",
            "=================================================================\n",
            " conv2d_7 (Conv2D)           (None, 128, 128, 32)      896       \n",
            "                                                                 \n",
            " max_pooling2d_7 (MaxPooling  (None, 64, 64, 32)       0         \n",
            " 2D)                                                             \n",
            "                                                                 \n",
            " spatial_dropout2d_7 (Spatia  (None, 64, 64, 32)       0         \n",
            " lDropout2D)                                                     \n",
            "                                                                 \n",
            " conv2d_8 (Conv2D)           (None, 64, 64, 32)        9248      \n",
            "                                                                 \n",
            " max_pooling2d_8 (MaxPooling  (None, 32, 32, 32)       0         \n",
            " 2D)                                                             \n",
            "                                                                 \n",
            " batch_normalization_6 (Batc  (None, 32, 32, 32)       128       \n",
            " hNormalization)                                                 \n",
            "                                                                 \n",
            " spatial_dropout2d_8 (Spatia  (None, 32, 32, 32)       0         \n",
            " lDropout2D)                                                     \n",
            "                                                                 \n",
            " conv2d_9 (Conv2D)           (None, 32, 32, 32)        9248      \n",
            "                                                                 \n",
            " max_pooling2d_9 (MaxPooling  (None, 16, 16, 32)       0         \n",
            " 2D)                                                             \n",
            "                                                                 \n",
            " batch_normalization_7 (Batc  (None, 16, 16, 32)       128       \n",
            " hNormalization)                                                 \n",
            "                                                                 \n",
            " spatial_dropout2d_9 (Spatia  (None, 16, 16, 32)       0         \n",
            " lDropout2D)                                                     \n",
            "                                                                 \n",
            " conv2d_10 (Conv2D)          (None, 16, 16, 32)        9248      \n",
            "                                                                 \n",
            " max_pooling2d_10 (MaxPoolin  (None, 8, 8, 32)         0         \n",
            " g2D)                                                            \n",
            "                                                                 \n",
            " batch_normalization_8 (Batc  (None, 8, 8, 32)         128       \n",
            " hNormalization)                                                 \n",
            "                                                                 \n",
            " spatial_dropout2d_10 (Spati  (None, 8, 8, 32)         0         \n",
            " alDropout2D)                                                    \n",
            "                                                                 \n",
            " conv2d_11 (Conv2D)          (None, 8, 8, 32)          9248      \n",
            "                                                                 \n",
            " max_pooling2d_11 (MaxPoolin  (None, 4, 4, 32)         0         \n",
            " g2D)                                                            \n",
            "                                                                 \n",
            " batch_normalization_9 (Batc  (None, 4, 4, 32)         128       \n",
            " hNormalization)                                                 \n",
            "                                                                 \n",
            " spatial_dropout2d_11 (Spati  (None, 4, 4, 32)         0         \n",
            " alDropout2D)                                                    \n",
            "                                                                 \n",
            " conv2d_12 (Conv2D)          (None, 4, 4, 32)          9248      \n",
            "                                                                 \n",
            " max_pooling2d_12 (MaxPoolin  (None, 2, 2, 32)         0         \n",
            " g2D)                                                            \n",
            "                                                                 \n",
            " batch_normalization_10 (Bat  (None, 2, 2, 32)         128       \n",
            " chNormalization)                                                \n",
            "                                                                 \n",
            " spatial_dropout2d_12 (Spati  (None, 2, 2, 32)         0         \n",
            " alDropout2D)                                                    \n",
            "                                                                 \n",
            " conv2d_13 (Conv2D)          (None, 2, 2, 32)          9248      \n",
            "                                                                 \n",
            " max_pooling2d_13 (MaxPoolin  (None, 1, 1, 32)         0         \n",
            " g2D)                                                            \n",
            "                                                                 \n",
            " batch_normalization_11 (Bat  (None, 1, 1, 32)         128       \n",
            " chNormalization)                                                \n",
            "                                                                 \n",
            " spatial_dropout2d_13 (Spati  (None, 1, 1, 32)         0         \n",
            " alDropout2D)                                                    \n",
            "                                                                 \n",
            " flatten_1 (Flatten)         (None, 32)                0         \n",
            "                                                                 \n",
            " dropout_3 (Dropout)         (None, 32)                0         \n",
            "                                                                 \n",
            " dense_3 (Dense)             (None, 128)               4224      \n",
            "                                                                 \n",
            " dropout_4 (Dropout)         (None, 128)               0         \n",
            "                                                                 \n",
            " dense_4 (Dense)             (None, 128)               16512     \n",
            "                                                                 \n",
            " dropout_5 (Dropout)         (None, 128)               0         \n",
            "                                                                 \n",
            " dense_5 (Dense)             (None, 1)                 129       \n",
            "                                                                 \n",
            "=================================================================\n",
            "Total params: 78,017\n",
            "Trainable params: 77,633\n",
            "Non-trainable params: 384\n",
            "_________________________________________________________________\n"
          ]
        }
      ]
    },
    {
      "cell_type": "code",
      "source": [
        "cnn1 = cnn.fit_generator(\n",
        "        training_set, steps_per_epoch=326, epochs=25, validation_data=test_set, validation_steps=39)"
      ],
      "metadata": {
        "colab": {
          "base_uri": "https://localhost:8080/"
        },
        "id": "lCPD0fhL8xPg",
        "outputId": "5c89d456-3b3e-417a-8a19-e72c15b878dd"
      },
      "execution_count": null,
      "outputs": [
        {
          "output_type": "stream",
          "name": "stderr",
          "text": [
            "/usr/local/lib/python3.7/dist-packages/ipykernel_launcher.py:2: UserWarning: `Model.fit_generator` is deprecated and will be removed in a future version. Please use `Model.fit`, which supports generators.\n",
            "  \n"
          ]
        },
        {
          "output_type": "stream",
          "name": "stdout",
          "text": [
            "Epoch 1/25\n",
            "326/326 [==============================] - 3090s 9s/step - loss: 0.6639 - accuracy: 0.6950 - val_loss: 0.7078 - val_accuracy: 0.6250\n",
            "Epoch 2/25\n",
            "326/326 [==============================] - 99s 305ms/step - loss: 0.5913 - accuracy: 0.7258 - val_loss: 0.6398 - val_accuracy: 0.6250\n",
            "Epoch 3/25\n",
            "326/326 [==============================] - 101s 309ms/step - loss: 0.5466 - accuracy: 0.7402 - val_loss: 0.5654 - val_accuracy: 0.6250\n",
            "Epoch 4/25\n",
            "326/326 [==============================] - 101s 309ms/step - loss: 0.4806 - accuracy: 0.7770 - val_loss: 0.4995 - val_accuracy: 0.7724\n",
            "Epoch 5/25\n",
            "326/326 [==============================] - 103s 315ms/step - loss: 0.4012 - accuracy: 0.8227 - val_loss: 0.3975 - val_accuracy: 0.8558\n",
            "Epoch 6/25\n",
            "326/326 [==============================] - 101s 309ms/step - loss: 0.3491 - accuracy: 0.8493 - val_loss: 0.3921 - val_accuracy: 0.8750\n",
            "Epoch 7/25\n",
            "326/326 [==============================] - 101s 310ms/step - loss: 0.3152 - accuracy: 0.8702 - val_loss: 0.4224 - val_accuracy: 0.8622\n",
            "Epoch 8/25\n",
            "326/326 [==============================] - 100s 307ms/step - loss: 0.2790 - accuracy: 0.8951 - val_loss: 0.3439 - val_accuracy: 0.8670\n",
            "Epoch 9/25\n",
            "326/326 [==============================] - 99s 304ms/step - loss: 0.2749 - accuracy: 0.8873 - val_loss: 0.6151 - val_accuracy: 0.8317\n",
            "Epoch 10/25\n",
            "326/326 [==============================] - 100s 306ms/step - loss: 0.2720 - accuracy: 0.8907 - val_loss: 0.3536 - val_accuracy: 0.8974\n",
            "Epoch 11/25\n",
            "326/326 [==============================] - 99s 305ms/step - loss: 0.2563 - accuracy: 0.9080 - val_loss: 0.3010 - val_accuracy: 0.9038\n",
            "Epoch 12/25\n",
            "326/326 [==============================] - 99s 304ms/step - loss: 0.2464 - accuracy: 0.9062 - val_loss: 0.4999 - val_accuracy: 0.8558\n",
            "Epoch 13/25\n",
            "326/326 [==============================] - 100s 306ms/step - loss: 0.2498 - accuracy: 0.9070 - val_loss: 0.3258 - val_accuracy: 0.8942\n",
            "Epoch 14/25\n",
            "326/326 [==============================] - 99s 304ms/step - loss: 0.2330 - accuracy: 0.9147 - val_loss: 0.5119 - val_accuracy: 0.8686\n",
            "Epoch 15/25\n",
            "326/326 [==============================] - 99s 304ms/step - loss: 0.2251 - accuracy: 0.9160 - val_loss: 0.3506 - val_accuracy: 0.9071\n",
            "Epoch 16/25\n",
            "326/326 [==============================] - 99s 304ms/step - loss: 0.2173 - accuracy: 0.9216 - val_loss: 0.2724 - val_accuracy: 0.9022\n",
            "Epoch 17/25\n",
            "326/326 [==============================] - 100s 305ms/step - loss: 0.2124 - accuracy: 0.9218 - val_loss: 0.3823 - val_accuracy: 0.9038\n",
            "Epoch 18/25\n",
            "326/326 [==============================] - 99s 305ms/step - loss: 0.2214 - accuracy: 0.9243 - val_loss: 0.3047 - val_accuracy: 0.9103\n",
            "Epoch 19/25\n",
            "326/326 [==============================] - 99s 304ms/step - loss: 0.2225 - accuracy: 0.9185 - val_loss: 0.3728 - val_accuracy: 0.9151\n",
            "Epoch 20/25\n",
            "326/326 [==============================] - 99s 305ms/step - loss: 0.2065 - accuracy: 0.9266 - val_loss: 0.2993 - val_accuracy: 0.9087\n",
            "Epoch 21/25\n",
            "326/326 [==============================] - 99s 304ms/step - loss: 0.2148 - accuracy: 0.9247 - val_loss: 0.3995 - val_accuracy: 0.8990\n",
            "Epoch 22/25\n",
            "326/326 [==============================] - 99s 305ms/step - loss: 0.2051 - accuracy: 0.9273 - val_loss: 0.3786 - val_accuracy: 0.9103\n",
            "Epoch 23/25\n",
            "326/326 [==============================] - 99s 304ms/step - loss: 0.2000 - accuracy: 0.9252 - val_loss: 0.4303 - val_accuracy: 0.9071\n",
            "Epoch 24/25\n",
            "326/326 [==============================] - 99s 305ms/step - loss: 0.1970 - accuracy: 0.9352 - val_loss: 0.3879 - val_accuracy: 0.8878\n",
            "Epoch 25/25\n",
            "326/326 [==============================] - 102s 313ms/step - loss: 0.1992 - accuracy: 0.9289 - val_loss: 0.4153 - val_accuracy: 0.9038\n"
          ]
        }
      ]
    },
    {
      "cell_type": "code",
      "source": [
        "import matplotlib.pyplot as plt\n",
        "plt.figure(figsize=(12, 8))\n",
        "\n",
        "plt.subplot(2, 2, 1)\n",
        "plt.plot(cnn1.history['loss'], label='Loss')\n",
        "plt.plot(cnn1.history['val_loss'], label='Test_Loss')\n",
        "plt.legend()\n",
        "plt.title('Loss Evolution')\n",
        "\n",
        "plt.subplot(2, 2, 2)\n",
        "plt.plot(cnn1.history['accuracy'], label='Accuracy')\n",
        "plt.plot(cnn1.history['val_accuracy'], label='Test_Accuracy')\n",
        "plt.legend()\n",
        "plt.title('Accuracy Evolution')"
      ],
      "metadata": {
        "colab": {
          "base_uri": "https://localhost:8080/",
          "height": 280
        },
        "id": "XGx8hq5AB6xd",
        "outputId": "23cedea7-46e9-4f76-ba45-130a9f33a3bb"
      },
      "execution_count": null,
      "outputs": [
        {
          "output_type": "execute_result",
          "data": {
            "text/plain": [
              "Text(0.5, 1.0, 'Accuracy Evolution')"
            ]
          },
          "metadata": {},
          "execution_count": 24
        },
        {
          "output_type": "display_data",
          "data": {
            "image/png": "[encoded data removed]",
            "text/plain": [
              "<Figure size 864x576 with 2 Axes>"
            ]
          },
          "metadata": {
            "needs_background": "light"
          }
        }
      ]
    }
  ]
}